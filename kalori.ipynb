{
 "cells": [
  {
   "cell_type": "code",
   "execution_count": 1,
   "metadata": {},
   "outputs": [
    {
     "name": "stderr",
     "output_type": "stream",
     "text": [
      "usage: ipykernel_launcher.py [-h] -i IMAGE [-n SEGMENTS]\n",
      "ipykernel_launcher.py: error: the following arguments are required: -i/--image\n"
     ]
    },
    {
     "ename": "SystemExit",
     "evalue": "2",
     "output_type": "error",
     "traceback": [
      "An exception has occurred, use %tb to see the full traceback.\n",
      "\u001b[1;31mSystemExit\u001b[0m\u001b[1;31m:\u001b[0m 2\n"
     ]
    },
    {
     "name": "stderr",
     "output_type": "stream",
     "text": [
      "c:\\Users\\Acer\\AppData\\Local\\Programs\\Python\\Python39\\lib\\site-packages\\IPython\\core\\interactiveshell.py:3405: UserWarning: To exit: use 'exit', 'quit', or Ctrl-D.\n",
      "  warn(\"To exit: use 'exit', 'quit', or Ctrl-D.\", stacklevel=1)\n"
     ]
    }
   ],
   "source": [
    "import cv2\n",
    "import numpy as np\n",
    "\n",
    "class Segment:\n",
    "    def __init__(self,segments=5):\n",
    "        #define number of segments, with default 5\n",
    "        self.segments=segments\n",
    "\n",
    "    def kmeans(self,image):\n",
    "        image=cv2.GaussianBlur(image,(7,7),0)\n",
    "        vectorized=image.reshape(-1,3)\n",
    "        vectorized=np.float32(vectorized) \n",
    "        criteria=(cv2.TERM_CRITERIA_EPS + cv2.TERM_CRITERIA_MAX_ITER, 10, 1.0)\n",
    "        ret,label,center=cv2.kmeans(vectorized,self.segments,None,criteria,10,cv2.KMEANS_RANDOM_CENTERS)\n",
    "        res = center[label.flatten()]\n",
    "        segmented_image = res.reshape((image.shape))\n",
    "        return label.reshape((image.shape[0],image.shape[1])),segmented_image.astype(np.uint8)\n",
    "\n",
    "\n",
    "    def extractComponent(self,image,label_image,label):\n",
    "        component=np.zeros(image.shape,np.uint8)\n",
    "        component[label_image==label]=image[label_image==label]\n",
    "        return component\n",
    "\n",
    "if __name__==\"__main__\":\n",
    "    import argparse\n",
    "    import sys\n",
    "    ap = argparse.ArgumentParser()\n",
    "    ap.add_argument(\"-i\", \"--image\", required = True, help = \"Path to the image\")\n",
    "    ap.add_argument(\"-n\", \"--segments\", required = False, type = int,\n",
    "        help = \"# of clusters\")\n",
    "    args = vars(ap.parse_args())\n",
    "\n",
    "    image=cv2.imread(args[\"image\"])\n",
    "    if len(sys.argv)==3:\n",
    "        \n",
    "        seg = Segment()\n",
    "        label,result= seg.kmeans(image)\n",
    "    else:\n",
    "        seg=Segment(args[\"segments\"])\n",
    "        label,result=seg.kmeans(image)\n",
    "    cv2.imshow(\"segmented\",result)\n",
    "    result=seg.extractComponent(image,label,2)\n",
    "    cv2.imshow(\"extracted\",result)\n",
    "    cv2.waitKey(0)"
   ]
  }
 ],
 "metadata": {
  "kernelspec": {
   "display_name": "Python 3.9.1 64-bit",
   "language": "python",
   "name": "python3"
  },
  "language_info": {
   "codemirror_mode": {
    "name": "ipython",
    "version": 3
   },
   "file_extension": ".py",
   "mimetype": "text/x-python",
   "name": "python",
   "nbconvert_exporter": "python",
   "pygments_lexer": "ipython3",
   "version": "3.9.1"
  },
  "orig_nbformat": 4,
  "vscode": {
   "interpreter": {
    "hash": "56ff1c1c3135541108fe132e771aa45bbbf614a992258041b003da88d6e3d5e1"
   }
  }
 },
 "nbformat": 4,
 "nbformat_minor": 2
}
